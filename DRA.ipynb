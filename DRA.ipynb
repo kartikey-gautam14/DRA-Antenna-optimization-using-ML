{
  "nbformat": 4,
  "nbformat_minor": 0,
  "metadata": {
    "colab": {
      "provenance": [],
      "collapsed_sections": [
        "w1r1Q4Z4YbTb",
        "BSMSrR6DYnj0",
        "jrvzfrNCdgM8",
        "cd7iuGfe5Ic6"
      ],
      "toc_visible": true,
      "mount_file_id": "1oQwC2BQiN446Atk5cq64YeLgZeKmF0q2",
      "authorship_tag": "ABX9TyP//+QSAnlxd17anz98FdUz",
      "include_colab_link": true
    },
    "kernelspec": {
      "name": "python3",
      "display_name": "Python 3"
    },
    "language_info": {
      "name": "python"
    },
    "accelerator": "GPU",
    "gpuClass": "standard"
  },
  "cells": [
    {
      "cell_type": "markdown",
      "metadata": {
        "id": "view-in-github",
        "colab_type": "text"
      },
      "source": [
        "<a href=\"https://colab.research.google.com/github/kartikey-gautam14/DRA-Antenna-optimization-using-ML/blob/main/DRA.ipynb\" target=\"_parent\"><img src=\"https://colab.research.google.com/assets/colab-badge.svg\" alt=\"Open In Colab\"/></a>"
      ]
    },
    {
      "cell_type": "code",
      "execution_count": null,
      "metadata": {
        "id": "x7wsih82YVjV",
        "colab": {
          "base_uri": "https://localhost:8080/",
          "height": 621
        },
        "outputId": "2d6120cb-6e5a-48a6-8ea1-2f05f20e1942"
      },
      "outputs": [
        {
          "output_type": "display_data",
          "data": {
            "text/plain": [
              "<Figure size 720x720 with 1 Axes>"
            ],
            "image/png": "[encoded data removed]"
          },
          "metadata": {
            "needs_background": "light"
          }
        }
      ],
      "source": [
        "import numpy as np\n",
        "import re\n",
        "import pandas as pd\n",
        "from sklearn.model_selection import train_test_split\n",
        "from sklearn.linear_model import LogisticRegression\n",
        "from sklearn.neighbors import KNeighborsRegressor\n",
        "from sklearn.neighbors import KNeighborsClassifier\n",
        "from sklearn.preprocessing import StandardScaler\n",
        "from sklearn.ensemble import RandomForestRegressor\n",
        "from sklearn.metrics import r2_score, accuracy_score, f1_score\n",
        "from sklearn.metrics import mean_squared_error\n",
        "from sklearn.neural_network import MLPRegressor\n",
        "from sklearn.svm import SVR\n",
        "from sklearn.linear_model import ElasticNet\n",
        "from matplotlib import pyplot as plt\n",
        "\n",
        "from sklearn.gaussian_process import GaussianProcessRegressor\n",
        "col_names = ['Freq'\t,'Hd'\t,'Rd'\t,'Rs'\t,'S']\n",
        "ds = pd.read_csv('/content/drive/MyDrive/dataset.csv')\n",
        "ds2 = pd.read_csv('/content/test.csv')\n",
        "# knnImplementation(ds)\n",
        "# knnImplementation(ds,ds2)\n",
        "# rfImplementation(ds,ds2)\n",
        "# annImplementationLogistic(ds,ds2)\n",
        "elasticNetImplementation(ds, ds2)\n"
      ]
    },
    {
      "cell_type": "markdown",
      "source": [
        "# Dataset Generation"
      ],
      "metadata": {
        "id": "w1r1Q4Z4YbTb"
      }
    },
    {
      "cell_type": "code",
      "source": [
        "def cleanData():\n",
        "  cleaned_db = pd.read_c sv('cleandataset.csv')\n",
        "  final_db = pd.read_csv('finaldataset.csv')\n",
        "  list_of_column_names = []\n",
        "  for col in final_db.columns:\n",
        "    list_of_column_names.append(col)\n",
        "  list_of_column_names.pop(0)\n",
        "\n",
        "  i = 1\n",
        "  for element in list_of_column_names:\n",
        "    values = element.split()\n",
        "    hd = values[3]\n",
        "    rd = values[4]\n",
        "    rs = values[5]\n",
        "    hd = hd[4:-3]\n",
        "    rd = rd[4:-3]\n",
        "    rs = rs[4:-3]\n",
        "    for row in range(len(final_db)):\n",
        "      freq = final_db.iloc[row,0]\n",
        "      s = final_db.iloc[row,i]\n",
        "      data = {\n",
        "          'Freq': [freq],\n",
        "          'Hd': [hd],\n",
        "          'Rd':[rd],\n",
        "          'Rs':[rs],\n",
        "          'S':[s]\n",
        "      }\n",
        "      df = pd.DataFrame(data)\n",
        "      #print(df)\n",
        "      df.to_csv('cleandataset.csv', mode='a', index=False, header=False)\n",
        "    i = i+1\n",
        "\n",
        "\n",
        "\n",
        "\n",
        "\n",
        "      "
      ],
      "metadata": {
        "id": "VIx8Uc4k1aIz"
      },
      "execution_count": null,
      "outputs": []
    },
    {
      "cell_type": "code",
      "source": [],
      "metadata": {
        "id": "1K1XZKUCjkiz"
      },
      "execution_count": null,
      "outputs": []
    },
    {
      "cell_type": "markdown",
      "source": [
        "# KNN Implemetation"
      ],
      "metadata": {
        "id": "GoFwGhFoYhvx"
      }
    },
    {
      "cell_type": "code",
      "source": [
        "def knnImplementation(pi, pi2):\n",
        "  X = pi.iloc[:,:-1].values\n",
        "  y = pi.iloc[:, 4].values\n",
        "  X_train, X_test, y_train, y_test = train_test_split(X, y, test_size=0.2,random_state=42)\n",
        "  # scaler = StandardScaler()\n",
        "  # scaler.fit(X_train)\n",
        "  # X_train = scaler.transform(X_train)\n",
        "  # X_test = scaler.transform(X_test)\n",
        "  knn = KNeighborsRegressor(n_neighbors=7)\n",
        "  knn.fit(X_train, y_train)\n",
        "  knn_y_pred = knn.predict(X_test)\n",
        "  print(\"K NEAREST NEIGHBORS RESULTS\")\n",
        "  # print(knn_y_pred)\n",
        "  error = mean_squared_error(y_test,knn_y_pred,squared=False)\n",
        "  print(f\"KNN MSE: {error}\")\n",
        "  print(f\"KNN Score: {knn.score(X_test, y_test)}\")\n",
        "  # graphImplementation(y_test, knn_y_pred)\n",
        "  print(\"Knn graph of actual vs predicted value\")\n",
        "  \n",
        "  xfig = pi2.iloc[:, 0].values\n",
        "  xTest = pi2.iloc[:,:-1].values\n",
        "  yfig = pi2.iloc[:, 4].values\n",
        "  yfig2 = knn.predict(xTest)\n",
        "\n",
        "  plt.figure(figsize=(10,10))\n",
        "  plt.plot(xfig, yfig, color='r', label='True S11')\n",
        "  plt.plot(xfig, yfig2, color='g', label='Predicted S11')\n",
        "  plt.ylabel(\"dB(S(1,1))\")\n",
        "  plt.xlabel(\"Freq(GHz)\")\n",
        "  plt.title(\"Freq v/s dB(S(1,1))\")\n",
        "    \n",
        "  # Adding legend, which helps us recognize the curve according to it's color\n",
        "  plt.legend()\n",
        "    \n",
        "  # To load the display window\n",
        "  plt.show()\n",
        "  # print(r2_score(y_test,knn_y_pred))"
      ],
      "metadata": {
        "id": "dMDvESGecrFC"
      },
      "execution_count": null,
      "outputs": []
    },
    {
      "cell_type": "code",
      "source": [
        "def graphImplementation(y_test, pred_y_test):\n",
        "#  plt.scatter(y_test, pred_y_test)\n",
        "#  plt.xlabel('True Values ')\n",
        "#  plt.ylabel('Predictions ')\n",
        "#  plt.axis('equal')\n",
        "#  plt.axis('square')\n",
        "#  plt.xlim([0, plt.xlim()])\n",
        "#  plt.ylim([0, plt.ylim()])\n",
        "#  _ = plt.plot([-100, 100], [-100, 100])\n",
        "  plt.figure(figsize=(10,10))\n",
        "  plt.scatter(y_test, pred_y_test, c='crimson')\n",
        "  # plt.yscale('log')\n",
        "  # plt.xscale('log')\n",
        "\n",
        "  p1 = max(max(pred_y_test), max(y_test))\n",
        "  p2 = min(min(pred_y_test), min(y_test))\n",
        "  plt.plot([p1, p2], [p1, p2], 'b-')\n",
        "  plt.xlabel('True Values', fontsize=15)\n",
        "  plt.ylabel('Predictions', fontsize=15)\n",
        "  plt.axis('equal')\n",
        "  plt.show()\n"
      ],
      "metadata": {
        "id": "S17aj2UXmojR"
      },
      "execution_count": null,
      "outputs": []
    },
    {
      "cell_type": "markdown",
      "source": [
        "# RF Implementation"
      ],
      "metadata": {
        "id": "BSMSrR6DYnj0"
      }
    },
    {
      "cell_type": "code",
      "source": [
        "def rfImplementation(pi, pi2):\n",
        "  X = pi.iloc[:,:-1].values\n",
        "  y = pi.iloc[:, 4].values\n",
        "  X_train, X_test, y_train, y_test = train_test_split(X, y, test_size=0.2,random_state=42)\n",
        "  # scaler = StandardScaler()\n",
        "  # scaler.fit(X_train)\n",
        "  # X_train = scaler.transform(X_train)\n",
        "  # X_test = scaler.transform(X_test)\n",
        "  rf = RandomForestRegressor(max_depth=2,n_estimators=30, min_samples_split=3,max_leaf_nodes=5,random_state=42)\n",
        "  rf = RandomForestRegressor()\n",
        "  rf.fit(X_train, y_train)\n",
        "  rf_y_pred = rf.predict(X_test)\n",
        "  # print(rf_y_pred)\n",
        "  print(\"Random Forest RESULTS\")\n",
        "  error = mean_squared_error(y_test,rf_y_pred,squared=False)\n",
        "  print(f\"RF MSE: {error}\")\n",
        "  print(f\"RF Score: {rf.score(X_test, y_test)}\")\n",
        "  print(r2_score(y_test,rf_y_pred))\n",
        "  graphImplementation(y_test, rf_y_pred)\n",
        "  print(\"rf graph of actual vs predicted value\")\n",
        "\n",
        "  xfig = pi2.iloc[:, 0].values\n",
        "  xTest = pi2.iloc[:,:-1].values\n",
        "  yfig = pi2.iloc[:, 4].values\n",
        "  yfig2 = rf.predict(xTest)\n",
        "\n",
        "  plt.figure(figsize=(10,10))\n",
        "  plt.plot(xfig, yfig, color='r', label='True S11')\n",
        "  plt.plot(xfig, yfig2, color='g', label='Predicted S11')\n",
        "  plt.ylabel(\"dB(S(1,1))\")\n",
        "  plt.xlabel(\"Freq(GHz)\")\n",
        "  plt.title(\"Freq v/s dB(S(1,1))\")\n",
        "    \n",
        "  # Adding legend, which helps us recognize the curve according to it's color\n",
        "  plt.legend()\n",
        "    \n",
        "  # To load the display window\n",
        "  plt.show()\n",
        "  # print(r2_score(y_test,knn_y_pred))\n"
      ],
      "metadata": {
        "id": "-bDBXRuJePOg"
      },
      "execution_count": null,
      "outputs": []
    },
    {
      "cell_type": "code",
      "source": [
        "def annImplementationTanh(pi,pi2):\n",
        "  X = pi.iloc[:,:-1].values\n",
        "  y = pi.iloc[:, 4].values\n",
        "  X_train, X_test, y_train, y_test = train_test_split(X, y, test_size=0.2,random_state=42)\n",
        "  mlp = MLPRegressor(hidden_layer_sizes=(8,8,8), activation='tanh', solver='adam', max_iter=500)\n",
        "  mlp.fit(X_train,y_train)\n",
        "\n",
        "  mlp_y_pred = mlp.predict(X_test)\n",
        "  error = mean_squared_error(y_test,mlp_y_pred,squared=False)\n",
        "  print(f\"ANN with tanh as activation function  MSE: {error}\")\n",
        "  print(f\"ANN  with tanh as activation function Score: {mlp.score(X_test, y_test)}\")\n",
        "  graphImplementation(y_test, mlp_y_pred)\n",
        "  print(\"tanh graph of actual vs predicted value\")\n",
        "\n",
        "  xfig = pi2.iloc[:, 0].values\n",
        "  xTest = pi2.iloc[:,:-1].values\n",
        "  yfig = pi2.iloc[:, 4].values\n",
        "  yfig2 = mlp.predict(xTest)\n",
        "\n",
        "  plt.figure(figsize=(10,10))\n",
        "  plt.plot(xfig, yfig, color='r', label='True S11')\n",
        "  plt.plot(xfig, yfig2, color='g', label='Predicted S11')\n",
        "  plt.ylabel(\"dB(S(1,1))\")\n",
        "  plt.xlabel(\"Freq(GHz)\")\n",
        "  plt.title(\"Freq v/s dB(S(1,1))\")\n",
        "    \n",
        "  # Adding legend, which helps us recognize the curve according to it's color\n",
        "  plt.legend()\n",
        "    \n",
        "  # To load the display window\n",
        "  plt.show()\n",
        "  # print(r2_score(y_test,knn_y_pred))"
      ],
      "metadata": {
        "id": "BmqComfGjms8"
      },
      "execution_count": null,
      "outputs": []
    },
    {
      "cell_type": "code",
      "source": [
        "def annImplementationLogistic(pi,pi2):\n",
        "  X = pi.iloc[:,:-1].values\n",
        "  y = pi.iloc[:, 4].values\n",
        "  X_train, X_test, y_train, y_test = train_test_split(X, y, test_size=0.2,random_state=42)\n",
        "  mlp = MLPRegressor(hidden_layer_sizes=(8,8,8), activation='logistic', solver='adam', max_iter=500)\n",
        "  mlp.fit(X_train,y_train)\n",
        "\n",
        "  mlp_y_pred = mlp.predict(X_test)\n",
        "  error = mean_squared_error(y_test,mlp_y_pred,squared=False)\n",
        "  print(f\"ANN  with logistic as activation function MSE: {error}\")\n",
        "  print(f\"ANN with logistic as activation function Score: {mlp.score(X_test, y_test)}\")\n",
        "  graphImplementation(y_test, mlp_y_pred)\n",
        "  print(\"logistic graph of actual vs predicted value\")\n",
        "\n",
        "\n",
        "  xfig = pi2.iloc[:, 0].values\n",
        "  xTest = pi2.iloc[:,:-1].values\n",
        "  yfig = pi2.iloc[:, 4].values\n",
        "  yfig2 = mlp.predict(xTest)\n",
        "\n",
        "  plt.figure(figsize=(10,10))\n",
        "  plt.plot(xfig, yfig, color='r', label='True S11')\n",
        "  plt.plot(xfig, yfig2, color='g', label='Predicted S11')\n",
        "  plt.ylabel(\"dB(S(1,1))\")\n",
        "  plt.xlabel(\"Freq(GHz)\")\n",
        "  plt.title(\"Freq v/s dB(S(1,1))\")\n",
        "    \n",
        "  # Adding legend, which helps us recognize the curve according to it's color\n",
        "  plt.legend()\n",
        "    \n",
        "  # To load the display window\n",
        "  plt.show()\n",
        "  # print(r2_score(y_test,knn_y_pred))"
      ],
      "metadata": {
        "id": "Lib7ToaPZAwI"
      },
      "execution_count": null,
      "outputs": []
    },
    {
      "cell_type": "markdown",
      "source": [
        "# ..."
      ],
      "metadata": {
        "id": "bKbApqc5dn9R"
      }
    },
    {
      "cell_type": "markdown",
      "source": [
        "# ElasticNet Implementation \n"
      ],
      "metadata": {
        "id": "cd7iuGfe5Ic6"
      }
    },
    {
      "cell_type": "code",
      "source": [
        "def elasticNetImplementation(pi,pi2):\n",
        "  X = pi.iloc[:,:-1].values\n",
        "  y = pi.iloc[:, 4].values\n",
        "  X_train, X_test, y_train, y_test = train_test_split(X, y, test_size=0.20,random_state=42)\n",
        "  en = ElasticNet()\n",
        "  en.fit(X_train, y_train)\n",
        "  en_y_pred = en.predict(X_test)\n",
        "  print(\"Elastic Net results\")\n",
        "  error = mean_squared_error(y_test,en_y_pred,squared=False)\n",
        "  print(f\"Elastic Net MSE: {error}\")\n",
        "  print(f\"Elastic Net Score: {en.score(X_test, y_test)}\")\n",
        "  graphImplementation(y_test, en_y_pred)\n",
        "\n",
        "  xfig = pi2.iloc[:, 0].values\n",
        "  xTest = pi2.iloc[:,:-1].values\n",
        "  yfig = pi2.iloc[:, 4].values\n",
        "  yfig2 = en.predict(xTest)\n",
        "\n",
        "  plt.figure(figsize=(10,10))\n",
        "  plt.plot(xfig, yfig, color='r', label='True S11')\n",
        "  plt.plot(xfig, yfig2, color='g', label='Predicted S11')\n",
        "  plt.ylabel(\"dB(S(1,1))\")\n",
        "  plt.xlabel(\"Freq(GHz)\")\n",
        "  plt.title(\"Freq v/s dB(S(1,1))\")\n",
        "    \n",
        "  # Adding legend, which helps us recognize the curve according to it's color\n",
        "  plt.legend()\n",
        "    \n",
        "  # To load the display window\n",
        "  plt.show()\n",
        "  # print(r2_score(y_test,knn_y_pred))"
      ],
      "metadata": {
        "id": "2xj_9Y1gdmtK"
      },
      "execution_count": null,
      "outputs": []
    },
    {
      "cell_type": "markdown",
      "source": [
        "# Implement functions here"
      ],
      "metadata": {
        "id": "_Puo_IO_5CQ7"
      }
    },
    {
      "cell_type": "code",
      "source": [
        "# knnImplementation(ds)\n",
        "rfImplementation(ds)\n",
        "# annImplementationTanh(ds)\n",
        "# annImplementationLogistic(ds)\n",
        "# elasticNetImplementation(ds)\n"
      ],
      "metadata": {
        "id": "0cqBDoHTht_L",
        "colab": {
          "base_uri": "https://localhost:8080/",
          "height": 680
        },
        "outputId": "8a49106a-0c8d-430c-d72e-d49ac7f0d012"
      },
      "execution_count": null,
      "outputs": [
        {
          "output_type": "stream",
          "name": "stdout",
          "text": [
            "Random Forest RESULTS\n",
            "RF MSE: 0.3936008910707589\n",
            "RF Score: 0.9919430716664751\n"
          ]
        },
        {
          "output_type": "display_data",
          "data": {
            "text/plain": [
              "<Figure size 720x720 with 1 Axes>"
            ],
            "image/png": "[encoded data removed]"
          },
          "metadata": {
            "needs_background": "light"
          }
        },
        {
          "output_type": "stream",
          "name": "stdout",
          "text": [
            "rf graph of actual vs predicted value\n"
          ]
        }
      ]
    }
  ]
}